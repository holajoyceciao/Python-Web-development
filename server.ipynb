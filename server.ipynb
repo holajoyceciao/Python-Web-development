{
 "cells": [
  {
   "cell_type": "markdown",
   "id": "3ccf7009",
   "metadata": {},
   "source": [
    "## How websites work"
   ]
  },
  {
   "cell_type": "markdown",
   "id": "4c5b2878",
   "metadata": {},
   "source": [
    "* virtual env: https://realpython.com/python-virtual-environments-a-primer/\n",
    "* Flask(mini): https://flask.palletsprojects.com/en/1.1.x/\n",
    "* django(huge): https://www.djangoproject.com/\n",
    "* MIME types: https://developer.mozilla.org/en-US/docs/Web/HTTP/Basics_of_HTTP/MIME_types\n",
    "* Free resources: https://zerotomastery.io/resources/"
   ]
  },
  {
   "cell_type": "code",
   "execution_count": 45,
   "id": "491b0f86",
   "metadata": {},
   "outputs": [],
   "source": [
    "!touch webServer/index.html"
   ]
  },
  {
   "cell_type": "code",
   "execution_count": 46,
   "id": "fc650308",
   "metadata": {},
   "outputs": [],
   "source": [
    "!touch webServer/style.css"
   ]
  },
  {
   "cell_type": "code",
   "execution_count": 47,
   "id": "102624cc",
   "metadata": {},
   "outputs": [],
   "source": [
    "!touch webServer/script.js"
   ]
  },
  {
   "cell_type": "code",
   "execution_count": 2,
   "id": "244ccd48",
   "metadata": {},
   "outputs": [
    {
     "name": "stdout",
     "output_type": "stream",
     "text": [
      "C:\\Users\\hisup\\Desktop\\Personal\\Personal Improvements\\Courses\\Python\\Web Development\n"
     ]
    }
   ],
   "source": [
    "import os \n",
    "\n",
    "working_dir = os.getcwd()\n",
    "print(working_dir)"
   ]
  },
  {
   "cell_type": "code",
   "execution_count": null,
   "id": "ef9a3999",
   "metadata": {},
   "outputs": [],
   "source": []
  }
 ],
 "metadata": {
  "kernelspec": {
   "display_name": "Python [conda env:python_playground]",
   "language": "python",
   "name": "conda-env-python_playground-py"
  },
  "language_info": {
   "codemirror_mode": {
    "name": "ipython",
    "version": 3
   },
   "file_extension": ".py",
   "mimetype": "text/x-python",
   "name": "python",
   "nbconvert_exporter": "python",
   "pygments_lexer": "ipython3",
   "version": "3.9.15"
  }
 },
 "nbformat": 4,
 "nbformat_minor": 5
}

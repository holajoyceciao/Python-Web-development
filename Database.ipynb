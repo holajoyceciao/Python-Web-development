{
 "cells": [
  {
   "cell_type": "markdown",
   "id": "3aba6f3b",
   "metadata": {},
   "source": [
    "## Database"
   ]
  },
  {
   "cell_type": "markdown",
   "id": "0e8d6e68",
   "metadata": {},
   "source": [
    "* A collection of data (numbers, dates, passwords hashes, user infomation and etc.)\n",
    "* Allows us to organize datas and makes data management easy\n",
    "* DBMS (database management system) allows us to access databases and control access to database users\n",
    "* There are two types of DBMS: **PostgreSQL**, **MongoDB**"
   ]
  },
  {
   "cell_type": "markdown",
   "id": "0a903d49",
   "metadata": {},
   "source": [
    "<img src='resources/database/Node Server.png'/>"
   ]
  },
  {
   "cell_type": "markdown",
   "id": "0f548299",
   "metadata": {},
   "source": [
    "### SQL & Relational Database"
   ]
  },
  {
   "cell_type": "markdown",
   "id": "70e06cb1",
   "metadata": {},
   "source": [
    "* Common DBMS: **PostgreSQL, Oracle, SQL Server, MySQL, SQLite...**\n",
    "* Follow a same standard format\n",
    "* Consist of two or more tables with columes and rows\n",
    "* The relation between tables and field is called **Schema** that must be clearly defined before any information can be added\n",
    "* All relational databases use SQL to communicate, modify, get or update the data"
   ]
  },
  {
   "cell_type": "markdown",
   "id": "27068cec",
   "metadata": {},
   "source": [
    "<img src='resources/database/db1.png' width='300px'/>"
   ]
  },
  {
   "cell_type": "markdown",
   "id": "f1ece688",
   "metadata": {},
   "source": [
    "<img src=\"resources/database/foreign key.png\"/>"
   ]
  },
  {
   "cell_type": "markdown",
   "id": "42ec8f71",
   "metadata": {},
   "source": [
    "### NoSQL & Non Relational Database"
   ]
  },
  {
   "cell_type": "markdown",
   "id": "afd2e005",
   "metadata": {},
   "source": [
    "* Common DBMS: **CouchDB, HYPERTABLE, MongoDB ...**\n",
    "* No need to define the schema first\n",
    "* DBMS of non relational database is called **document oriented** that means they store information as documents"
   ]
  },
  {
   "cell_type": "markdown",
   "id": "7e4f54f6",
   "metadata": {},
   "source": [
    "<img src=\"resources/database/non_relational.png\"/>"
   ]
  },
  {
   "cell_type": "markdown",
   "id": "f83dae01",
   "metadata": {},
   "source": [
    "### SQL V.S. NON-SQL"
   ]
  },
  {
   "cell_type": "markdown",
   "id": "13ebbbda",
   "metadata": {},
   "source": [
    "<img src=\"resources/database/non sql vs sql.png\"/>"
   ]
  },
  {
   "cell_type": "code",
   "execution_count": null,
   "id": "91d85cef",
   "metadata": {},
   "outputs": [],
   "source": []
  }
 ],
 "metadata": {
  "kernelspec": {
   "display_name": "Python [conda env:python_playground]",
   "language": "python",
   "name": "conda-env-python_playground-py"
  },
  "language_info": {
   "codemirror_mode": {
    "name": "ipython",
    "version": 3
   },
   "file_extension": ".py",
   "mimetype": "text/x-python",
   "name": "python",
   "nbconvert_exporter": "python",
   "pygments_lexer": "ipython3",
   "version": "3.9.15"
  }
 },
 "nbformat": 4,
 "nbformat_minor": 5
}
